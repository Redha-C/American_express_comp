{
 "cells": [
  {
   "cell_type": "code",
   "execution_count": 1,
   "metadata": {},
   "outputs": [],
   "source": [
    "# General python libraires \n",
    "import os\n",
    "\n",
    "# General DS libraries\n",
    "import pandas as pd\n",
    "import numpy as np \n",
    "import matplotlib.pyplot as plt \n",
    "import seaborn as sns \n",
    "\n",
    "# Parallelized libraries \n",
    "import dask.dataframe as dd "
   ]
  },
  {
   "cell_type": "code",
   "execution_count": 2,
   "metadata": {},
   "outputs": [],
   "source": [
    "# Getting files \n",
    "path = 'C:/Users/redha.cherif_artefac/GitHub_perso/American_express_comp/input/'\n",
    "train = dd.read_csv(os.path.join(path, 'train_data.csv'))\n",
    "train_labels = dd.read_csv(os.path.join(path, 'train_labels.csv'))\n",
    "test = dd.read_csv(os.path.join(path, 'test_data.csv'))"
   ]
  },
  {
   "cell_type": "code",
   "execution_count": 18,
   "metadata": {},
   "outputs": [
    {
     "name": "stdout",
     "output_type": "stream",
     "text": [
      "5531451\n",
      "11363762\n"
     ]
    }
   ],
   "source": [
    "print(len(train))\n",
    "print(len(test))"
   ]
  },
  {
   "cell_type": "code",
   "execution_count": 45,
   "metadata": {},
   "outputs": [
    {
     "name": "stdout",
     "output_type": "stream",
     "text": [
      "('2017-03-01', '2018-03-31')\n",
      "('2018-04-01', '2019-10-31')\n",
      "train: 12 months\n",
      "test: 18 months\n"
     ]
    }
   ],
   "source": [
    "print(dd.compute(train.S_2.min(),train.S_2.max()))\n",
    "print(dd.compute(test.S_2.min(), test.S_2.max()))\n",
    "print('train: 12 months')\n",
    "print('test: 18 months')"
   ]
  },
  {
   "cell_type": "code",
   "execution_count": 56,
   "metadata": {},
   "outputs": [
    {
     "data": {
      "text/plain": [
       "Dask Series Structure:\n",
       "npartitions=256\n",
       "    object\n",
       "       ...\n",
       "     ...  \n",
       "       ...\n",
       "       ...\n",
       "Name: customer_ID, dtype: object\n",
       "Dask Name: getitem, 512 tasks"
      ]
     },
     "execution_count": 56,
     "metadata": {},
     "output_type": "execute_result"
    }
   ],
   "source": [
    "train.customer_ID"
   ]
  },
  {
   "cell_type": "code",
   "execution_count": 52,
   "metadata": {},
   "outputs": [
    {
     "data": {
      "text/html": [
       "<div>\n",
       "<style scoped>\n",
       "    .dataframe tbody tr th:only-of-type {\n",
       "        vertical-align: middle;\n",
       "    }\n",
       "\n",
       "    .dataframe tbody tr th {\n",
       "        vertical-align: top;\n",
       "    }\n",
       "\n",
       "    .dataframe thead th {\n",
       "        text-align: right;\n",
       "    }\n",
       "</style>\n",
       "<table border=\"1\" class=\"dataframe\">\n",
       "  <thead>\n",
       "    <tr style=\"text-align: right;\">\n",
       "      <th></th>\n",
       "      <th>customer_ID</th>\n",
       "      <th>S_2</th>\n",
       "      <th>P_2</th>\n",
       "      <th>D_39</th>\n",
       "      <th>B_1</th>\n",
       "      <th>B_2</th>\n",
       "      <th>R_1</th>\n",
       "      <th>S_3</th>\n",
       "      <th>D_41</th>\n",
       "      <th>B_3</th>\n",
       "      <th>...</th>\n",
       "      <th>D_136</th>\n",
       "      <th>D_137</th>\n",
       "      <th>D_138</th>\n",
       "      <th>D_139</th>\n",
       "      <th>D_140</th>\n",
       "      <th>D_141</th>\n",
       "      <th>D_142</th>\n",
       "      <th>D_143</th>\n",
       "      <th>D_144</th>\n",
       "      <th>D_145</th>\n",
       "    </tr>\n",
       "  </thead>\n",
       "  <tbody>\n",
       "    <tr>\n",
       "      <th>21602</th>\n",
       "      <td>fffff1d38b785cef84adeace64f8f83db3a0c31e8d92ea...</td>\n",
       "      <td>2017-11-05</td>\n",
       "      <td>0.979332</td>\n",
       "      <td>0.416013</td>\n",
       "      <td>0.020818</td>\n",
       "      <td>0.828199</td>\n",
       "      <td>0.003487</td>\n",
       "      <td>0.090743</td>\n",
       "      <td>0.005340</td>\n",
       "      <td>0.025139</td>\n",
       "      <td>...</td>\n",
       "      <td>NaN</td>\n",
       "      <td>NaN</td>\n",
       "      <td>NaN</td>\n",
       "      <td>0.006838</td>\n",
       "      <td>0.003680</td>\n",
       "      <td>0.000457</td>\n",
       "      <td>NaN</td>\n",
       "      <td>0.000905</td>\n",
       "      <td>0.001498</td>\n",
       "      <td>0.002774</td>\n",
       "    </tr>\n",
       "    <tr>\n",
       "      <th>21603</th>\n",
       "      <td>fffff1d38b785cef84adeace64f8f83db3a0c31e8d92ea...</td>\n",
       "      <td>2017-12-23</td>\n",
       "      <td>0.984907</td>\n",
       "      <td>0.296536</td>\n",
       "      <td>0.007209</td>\n",
       "      <td>0.812610</td>\n",
       "      <td>0.005904</td>\n",
       "      <td>0.079886</td>\n",
       "      <td>0.002243</td>\n",
       "      <td>0.023691</td>\n",
       "      <td>...</td>\n",
       "      <td>NaN</td>\n",
       "      <td>NaN</td>\n",
       "      <td>NaN</td>\n",
       "      <td>0.003310</td>\n",
       "      <td>0.007097</td>\n",
       "      <td>0.007857</td>\n",
       "      <td>NaN</td>\n",
       "      <td>0.002777</td>\n",
       "      <td>0.008225</td>\n",
       "      <td>0.008856</td>\n",
       "    </tr>\n",
       "    <tr>\n",
       "      <th>21604</th>\n",
       "      <td>fffff1d38b785cef84adeace64f8f83db3a0c31e8d92ea...</td>\n",
       "      <td>2018-01-06</td>\n",
       "      <td>0.983019</td>\n",
       "      <td>0.443984</td>\n",
       "      <td>0.013151</td>\n",
       "      <td>0.815422</td>\n",
       "      <td>0.003457</td>\n",
       "      <td>0.100503</td>\n",
       "      <td>0.002111</td>\n",
       "      <td>0.012343</td>\n",
       "      <td>...</td>\n",
       "      <td>NaN</td>\n",
       "      <td>NaN</td>\n",
       "      <td>NaN</td>\n",
       "      <td>0.009955</td>\n",
       "      <td>0.009994</td>\n",
       "      <td>0.001088</td>\n",
       "      <td>NaN</td>\n",
       "      <td>0.005693</td>\n",
       "      <td>0.006773</td>\n",
       "      <td>0.005566</td>\n",
       "    </tr>\n",
       "    <tr>\n",
       "      <th>21605</th>\n",
       "      <td>fffff1d38b785cef84adeace64f8f83db3a0c31e8d92ea...</td>\n",
       "      <td>2018-02-06</td>\n",
       "      <td>0.969861</td>\n",
       "      <td>0.442553</td>\n",
       "      <td>0.009855</td>\n",
       "      <td>1.003541</td>\n",
       "      <td>0.005117</td>\n",
       "      <td>0.101802</td>\n",
       "      <td>0.009930</td>\n",
       "      <td>0.008578</td>\n",
       "      <td>...</td>\n",
       "      <td>NaN</td>\n",
       "      <td>NaN</td>\n",
       "      <td>NaN</td>\n",
       "      <td>0.005541</td>\n",
       "      <td>0.006564</td>\n",
       "      <td>0.009883</td>\n",
       "      <td>NaN</td>\n",
       "      <td>0.008123</td>\n",
       "      <td>0.001168</td>\n",
       "      <td>0.003983</td>\n",
       "    </tr>\n",
       "    <tr>\n",
       "      <th>21606</th>\n",
       "      <td>fffff1d38b785cef84adeace64f8f83db3a0c31e8d92ea...</td>\n",
       "      <td>2018-03-14</td>\n",
       "      <td>0.982175</td>\n",
       "      <td>0.002474</td>\n",
       "      <td>0.000077</td>\n",
       "      <td>0.992880</td>\n",
       "      <td>0.000809</td>\n",
       "      <td>0.119165</td>\n",
       "      <td>0.003287</td>\n",
       "      <td>0.014092</td>\n",
       "      <td>...</td>\n",
       "      <td>NaN</td>\n",
       "      <td>NaN</td>\n",
       "      <td>NaN</td>\n",
       "      <td>0.007316</td>\n",
       "      <td>0.002888</td>\n",
       "      <td>0.006207</td>\n",
       "      <td>NaN</td>\n",
       "      <td>0.005110</td>\n",
       "      <td>0.003184</td>\n",
       "      <td>0.001914</td>\n",
       "    </tr>\n",
       "  </tbody>\n",
       "</table>\n",
       "<p>5 rows × 190 columns</p>\n",
       "</div>"
      ],
      "text/plain": [
       "                                             customer_ID         S_2  \\\n",
       "21602  fffff1d38b785cef84adeace64f8f83db3a0c31e8d92ea...  2017-11-05   \n",
       "21603  fffff1d38b785cef84adeace64f8f83db3a0c31e8d92ea...  2017-12-23   \n",
       "21604  fffff1d38b785cef84adeace64f8f83db3a0c31e8d92ea...  2018-01-06   \n",
       "21605  fffff1d38b785cef84adeace64f8f83db3a0c31e8d92ea...  2018-02-06   \n",
       "21606  fffff1d38b785cef84adeace64f8f83db3a0c31e8d92ea...  2018-03-14   \n",
       "\n",
       "            P_2      D_39       B_1       B_2       R_1       S_3      D_41  \\\n",
       "21602  0.979332  0.416013  0.020818  0.828199  0.003487  0.090743  0.005340   \n",
       "21603  0.984907  0.296536  0.007209  0.812610  0.005904  0.079886  0.002243   \n",
       "21604  0.983019  0.443984  0.013151  0.815422  0.003457  0.100503  0.002111   \n",
       "21605  0.969861  0.442553  0.009855  1.003541  0.005117  0.101802  0.009930   \n",
       "21606  0.982175  0.002474  0.000077  0.992880  0.000809  0.119165  0.003287   \n",
       "\n",
       "            B_3  ...  D_136  D_137  D_138     D_139     D_140     D_141  \\\n",
       "21602  0.025139  ...    NaN    NaN    NaN  0.006838  0.003680  0.000457   \n",
       "21603  0.023691  ...    NaN    NaN    NaN  0.003310  0.007097  0.007857   \n",
       "21604  0.012343  ...    NaN    NaN    NaN  0.009955  0.009994  0.001088   \n",
       "21605  0.008578  ...    NaN    NaN    NaN  0.005541  0.006564  0.009883   \n",
       "21606  0.014092  ...    NaN    NaN    NaN  0.007316  0.002888  0.006207   \n",
       "\n",
       "       D_142     D_143     D_144     D_145  \n",
       "21602    NaN  0.000905  0.001498  0.002774  \n",
       "21603    NaN  0.002777  0.008225  0.008856  \n",
       "21604    NaN  0.005693  0.006773  0.005566  \n",
       "21605    NaN  0.008123  0.001168  0.003983  \n",
       "21606    NaN  0.005110  0.003184  0.001914  \n",
       "\n",
       "[5 rows x 190 columns]"
      ]
     },
     "execution_count": 52,
     "metadata": {},
     "output_type": "execute_result"
    }
   ],
   "source": [
    "train.tail()"
   ]
  },
  {
   "cell_type": "code",
   "execution_count": null,
   "metadata": {},
   "outputs": [],
   "source": []
  }
 ],
 "metadata": {
  "interpreter": {
   "hash": "03b7ddd98a015235052fe7277228231decc9753d9b595a8615b2f407649b49e9"
  },
  "kernelspec": {
   "display_name": "Python 3.9.12 ('american_express_comp')",
   "language": "python",
   "name": "python3"
  },
  "language_info": {
   "codemirror_mode": {
    "name": "ipython",
    "version": 3
   },
   "file_extension": ".py",
   "mimetype": "text/x-python",
   "name": "python",
   "nbconvert_exporter": "python",
   "pygments_lexer": "ipython3",
   "version": "3.9.12"
  },
  "orig_nbformat": 4
 },
 "nbformat": 4,
 "nbformat_minor": 2
}

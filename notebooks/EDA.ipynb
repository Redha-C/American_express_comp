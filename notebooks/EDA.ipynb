{
 "cells": [
  {
   "cell_type": "code",
   "execution_count": 2,
   "metadata": {},
   "outputs": [],
   "source": [
    "# General python libraires \n",
    "import os\n",
    "\n",
    "# General DS libraries\n",
    "import pandas as pd\n",
    "import numpy as np \n",
    "import matplotlib.pyplot as plt \n",
    "import seaborn as sns \n",
    "\n",
    "# Parallelized libraries \n",
    "import dask.dataframe as dd "
   ]
  },
  {
   "cell_type": "code",
   "execution_count": 3,
   "metadata": {},
   "outputs": [],
   "source": [
    "# Getting files \n",
    "path = 'C:/Users/redha.cherif_artefac/GitHub_perso/American_express_comp/input/'\n",
    "train = dd.read_csv(os.path.join(path, 'train_data.csv'))\n",
    "train_labels = dd.read_csv(os.path.join(path, 'train_labels.csv'))\n",
    "test = dd.read_csv(os.path.join(path, 'test_data.csv'))"
   ]
  },
  {
   "cell_type": "code",
   "execution_count": 18,
   "metadata": {},
   "outputs": [
    {
     "name": "stdout",
     "output_type": "stream",
     "text": [
      "5531451\n",
      "11363762\n"
     ]
    }
   ],
   "source": [
    "print(len(train))\n",
    "print(len(test))"
   ]
  },
  {
   "cell_type": "code",
   "execution_count": 45,
   "metadata": {},
   "outputs": [
    {
     "name": "stdout",
     "output_type": "stream",
     "text": [
      "('2017-03-01', '2018-03-31')\n",
      "('2018-04-01', '2019-10-31')\n",
      "train: 12 months\n",
      "test: 18 months\n"
     ]
    }
   ],
   "source": [
    "print(dd.compute(train.S_2.min(),train.S_2.max()))\n",
    "print(dd.compute(test.S_2.min(), test.S_2.max()))\n",
    "print('train: 12 months')\n",
    "print('test: 18 months')"
   ]
  },
  {
   "cell_type": "code",
   "execution_count": 15,
   "metadata": {},
   "outputs": [],
   "source": [
    "train_cust_ID = train.customer_ID.unique().compute()\n",
    "train_labels_custID = train_labels.customer_ID.unique().compute()\n",
    "test_cust_ID = test.customer_ID.unique().compute()"
   ]
  },
  {
   "cell_type": "code",
   "execution_count": 21,
   "metadata": {},
   "outputs": [
    {
     "name": "stdout",
     "output_type": "stream",
     "text": [
      "Number of customers in train : 458913\n",
      "Number of customers in test : 924621\n"
     ]
    }
   ],
   "source": [
    "print(f'Number of customers in train : {len(train_cust_ID)}')\n",
    "print(f'Number of customers in test : {len(test_cust_ID)}')"
   ]
  },
  {
   "cell_type": "code",
   "execution_count": 53,
   "metadata": {},
   "outputs": [
    {
     "name": "stdout",
     "output_type": "stream",
     "text": [
      "Number of common customers in the train and the test : 0\n",
      "Number of common customers in the train and the train_labels : 458913\n",
      "\n",
      "Therefore, all customers in the test are different from the ones in the train ! No leakage possible at first glance.\n",
      "The customers in the train_labels are the same than in the train\n"
     ]
    }
   ],
   "source": [
    "train_test_join = pd.merge(train_cust_ID,test_cust_ID,how='inner')\n",
    "train_trainLabel_join = pd.merge(train_cust_ID,train_labels_custID,how='inner')\n",
    "print(f'Number of common customers in the train and the test : {len(train_test_join)}')\n",
    "print(f'Number of common customers in the train and the train_labels : {len(train_trainLabel_join)}')\n",
    "print('')\n",
    "print('Therefore, all customers in the test are different from the ones in the train ! No leakage possible at first glance.')\n",
    "print('The customers in the train_labels are the same than in the train')"
   ]
  },
  {
   "cell_type": "code",
   "execution_count": 4,
   "metadata": {},
   "outputs": [
    {
     "data": {
      "text/html": [
       "<div>\n",
       "<style scoped>\n",
       "    .dataframe tbody tr th:only-of-type {\n",
       "        vertical-align: middle;\n",
       "    }\n",
       "\n",
       "    .dataframe tbody tr th {\n",
       "        vertical-align: top;\n",
       "    }\n",
       "\n",
       "    .dataframe thead th {\n",
       "        text-align: right;\n",
       "    }\n",
       "</style>\n",
       "<table border=\"1\" class=\"dataframe\">\n",
       "  <thead>\n",
       "    <tr style=\"text-align: right;\">\n",
       "      <th></th>\n",
       "      <th>customer_ID</th>\n",
       "      <th>B_30</th>\n",
       "      <th>B_38</th>\n",
       "      <th>D_114</th>\n",
       "      <th>D_116</th>\n",
       "      <th>D_117</th>\n",
       "      <th>D_120</th>\n",
       "      <th>D_126</th>\n",
       "      <th>D_63</th>\n",
       "      <th>D_64</th>\n",
       "      <th>D_66</th>\n",
       "      <th>D_68</th>\n",
       "    </tr>\n",
       "  </thead>\n",
       "  <tbody>\n",
       "    <tr>\n",
       "      <th>0</th>\n",
       "      <td>0000099d6bd597052cdcda90ffabf56573fe9d7c79be5f...</td>\n",
       "      <td>0.0</td>\n",
       "      <td>2.0</td>\n",
       "      <td>1.0</td>\n",
       "      <td>0.0</td>\n",
       "      <td>4.0</td>\n",
       "      <td>0.0</td>\n",
       "      <td>1.0</td>\n",
       "      <td>CR</td>\n",
       "      <td>O</td>\n",
       "      <td>NaN</td>\n",
       "      <td>6.0</td>\n",
       "    </tr>\n",
       "    <tr>\n",
       "      <th>1</th>\n",
       "      <td>0000099d6bd597052cdcda90ffabf56573fe9d7c79be5f...</td>\n",
       "      <td>0.0</td>\n",
       "      <td>2.0</td>\n",
       "      <td>1.0</td>\n",
       "      <td>0.0</td>\n",
       "      <td>4.0</td>\n",
       "      <td>0.0</td>\n",
       "      <td>1.0</td>\n",
       "      <td>CR</td>\n",
       "      <td>O</td>\n",
       "      <td>NaN</td>\n",
       "      <td>6.0</td>\n",
       "    </tr>\n",
       "    <tr>\n",
       "      <th>2</th>\n",
       "      <td>0000099d6bd597052cdcda90ffabf56573fe9d7c79be5f...</td>\n",
       "      <td>0.0</td>\n",
       "      <td>2.0</td>\n",
       "      <td>1.0</td>\n",
       "      <td>0.0</td>\n",
       "      <td>4.0</td>\n",
       "      <td>0.0</td>\n",
       "      <td>1.0</td>\n",
       "      <td>CR</td>\n",
       "      <td>O</td>\n",
       "      <td>NaN</td>\n",
       "      <td>6.0</td>\n",
       "    </tr>\n",
       "    <tr>\n",
       "      <th>3</th>\n",
       "      <td>0000099d6bd597052cdcda90ffabf56573fe9d7c79be5f...</td>\n",
       "      <td>0.0</td>\n",
       "      <td>2.0</td>\n",
       "      <td>1.0</td>\n",
       "      <td>0.0</td>\n",
       "      <td>4.0</td>\n",
       "      <td>0.0</td>\n",
       "      <td>1.0</td>\n",
       "      <td>CR</td>\n",
       "      <td>O</td>\n",
       "      <td>NaN</td>\n",
       "      <td>6.0</td>\n",
       "    </tr>\n",
       "    <tr>\n",
       "      <th>4</th>\n",
       "      <td>0000099d6bd597052cdcda90ffabf56573fe9d7c79be5f...</td>\n",
       "      <td>0.0</td>\n",
       "      <td>2.0</td>\n",
       "      <td>1.0</td>\n",
       "      <td>0.0</td>\n",
       "      <td>4.0</td>\n",
       "      <td>0.0</td>\n",
       "      <td>1.0</td>\n",
       "      <td>CR</td>\n",
       "      <td>O</td>\n",
       "      <td>NaN</td>\n",
       "      <td>6.0</td>\n",
       "    </tr>\n",
       "  </tbody>\n",
       "</table>\n",
       "</div>"
      ],
      "text/plain": [
       "                                         customer_ID  B_30  B_38  D_114  \\\n",
       "0  0000099d6bd597052cdcda90ffabf56573fe9d7c79be5f...   0.0   2.0    1.0   \n",
       "1  0000099d6bd597052cdcda90ffabf56573fe9d7c79be5f...   0.0   2.0    1.0   \n",
       "2  0000099d6bd597052cdcda90ffabf56573fe9d7c79be5f...   0.0   2.0    1.0   \n",
       "3  0000099d6bd597052cdcda90ffabf56573fe9d7c79be5f...   0.0   2.0    1.0   \n",
       "4  0000099d6bd597052cdcda90ffabf56573fe9d7c79be5f...   0.0   2.0    1.0   \n",
       "\n",
       "   D_116  D_117  D_120  D_126 D_63 D_64  D_66  D_68  \n",
       "0    0.0    4.0    0.0    1.0   CR    O   NaN   6.0  \n",
       "1    0.0    4.0    0.0    1.0   CR    O   NaN   6.0  \n",
       "2    0.0    4.0    0.0    1.0   CR    O   NaN   6.0  \n",
       "3    0.0    4.0    0.0    1.0   CR    O   NaN   6.0  \n",
       "4    0.0    4.0    0.0    1.0   CR    O   NaN   6.0  "
      ]
     },
     "execution_count": 4,
     "metadata": {},
     "output_type": "execute_result"
    }
   ],
   "source": [
    "cat_feats = train[['customer_ID','B_30', 'B_38', 'D_114', 'D_116', 'D_117', 'D_120', 'D_126', 'D_63', 'D_64', 'D_66', 'D_68']]\n",
    "cat_feats.head()"
   ]
  },
  {
   "cell_type": "code",
   "execution_count": 83,
   "metadata": {},
   "outputs": [
    {
     "name": "stdout",
     "output_type": "stream",
     "text": [
      "Unique values for B_30: 0    0.0\n",
      "1    2.0\n",
      "2    1.0\n",
      "3    NaN\n",
      "Name: B_30, dtype: float64\n",
      "Unique values for B_38: 0    2.0\n",
      "1    1.0\n",
      "2    3.0\n",
      "3    5.0\n",
      "4    6.0\n",
      "5    7.0\n",
      "6    4.0\n",
      "7    NaN\n",
      "Name: B_38, dtype: float64\n",
      "Unique values for D_114: 0    1.0\n",
      "1    0.0\n",
      "2    NaN\n",
      "Name: D_114, dtype: float64\n",
      "Unique values for D_116: 0    0.0\n",
      "1    NaN\n",
      "2    1.0\n",
      "Name: D_116, dtype: float64\n",
      "Unique values for D_117: 0    4.0\n",
      "1   -1.0\n",
      "2    6.0\n",
      "3    2.0\n",
      "4    1.0\n",
      "5    NaN\n",
      "6    3.0\n",
      "7    5.0\n",
      "Name: D_117, dtype: float64\n",
      "Unique values for D_120: 0    0.0\n",
      "1    1.0\n",
      "2    NaN\n",
      "Name: D_120, dtype: float64\n",
      "Unique values for D_126: 0    1.0\n",
      "1    NaN\n",
      "2    0.0\n",
      "3   -1.0\n",
      "Name: D_126, dtype: float64\n",
      "Unique values for D_63: 0    CR\n",
      "1    CO\n",
      "2    CL\n",
      "3    XZ\n",
      "4    XM\n",
      "5    XL\n",
      "Name: D_63, dtype: object\n",
      "Unique values for D_64: 0      O\n",
      "1      R\n",
      "2    NaN\n",
      "3      U\n",
      "4     -1\n",
      "Name: D_64, dtype: object\n",
      "Unique values for D_66: 0    NaN\n",
      "1    1.0\n",
      "2    0.0\n",
      "Name: D_66, dtype: float64\n",
      "Unique values for D_68: 0    6.0\n",
      "1    2.0\n",
      "2    3.0\n",
      "3    NaN\n",
      "4    5.0\n",
      "5    4.0\n",
      "6    0.0\n",
      "7    1.0\n",
      "Name: D_68, dtype: float64\n"
     ]
    }
   ],
   "source": [
    "print(f'Unique values for B_30: {cat_feats.B_30.unique().compute()}')\n",
    "print(f'Unique values for B_38: {cat_feats.B_38.unique().compute()}')\n",
    "print(f'Unique values for D_114: {cat_feats.D_114.unique().compute()}')\n",
    "print(f'Unique values for D_116: {cat_feats.D_116.unique().compute()}')\n",
    "print(f'Unique values for D_117: {cat_feats.D_117.unique().compute()}')\n",
    "print(f'Unique values for D_120: {cat_feats.D_120.unique().compute()}')\n",
    "print(f'Unique values for D_126: {cat_feats.D_126.unique().compute()}')\n",
    "print(f'Unique values for D_63: {cat_feats.D_63.unique().compute()}')\n",
    "print(f'Unique values for D_64: {cat_feats.D_64.unique().compute()}')\n",
    "print(f'Unique values for D_66: {cat_feats.D_66.unique().compute()}')\n",
    "print(f'Unique values for D_68: {cat_feats.D_68.unique().compute()}')"
   ]
  },
  {
   "cell_type": "code",
   "execution_count": 16,
   "metadata": {},
   "outputs": [
    {
     "name": "stdout",
     "output_type": "stream",
     "text": [
      "The number of D columns : 95 with 9 categorical columns => going from D_39 to D_145 with the lack of D_40, 57, 67, 85, 90, 95, 97, 98, 99, 100 and 101 (11 columns)\n",
      "The number of S columns : 22 numerical columns => lack of 5 columns \n",
      " (S_2, S_3, S_5, S_6, S_7, S_8, S_9, S_11, S_12, S_13, S_15, S_16, S_17, S_18, S_19, S_20, S_22, S_23, S_24, S_25, S_26, S_27\n",
      "The number of P columns : 3 numerical columns => P_2, P_3 and P_4 with the lack of P_1. P_3 looks to be a normal distribution\n",
      "The number of B columns : 40 with 2 categorical columns => going from B_1 to B_42 with the lack of B_34 and B_35\n",
      "The number of R columns : 3 numerical columns => R_2, R_3 and R_4 with the lack of R_1\n"
     ]
    }
   ],
   "source": [
    "print('The number of D columns : 95 with 9 categorical columns => going from D_39 to D_145 with the lack of D_40, 57, 67, 85, 90, 95, 97, 98, 99, 100 and 101 (11 columns)')\n",
    "print('The number of S columns : 22 numerical columns => lack of 5 columns \\n (S_2, S_3, S_5, S_6, S_7, S_8, S_9, S_11, S_12, S_13, S_15, S_16, S_17, S_18, S_19, S_20, S_22, S_23, S_24, S_25, S_26, S_27')\n",
    "print('The number of P columns : 3 numerical columns => P_2, P_3 and P_4 with the lack of P_1. P_3 looks to be a normal distribution')\n",
    "print('The number of B columns : 40 with 2 categorical columns => going from B_1 to B_42 with the lack of B_34 and B_35')\n",
    "print('The number of R columns : 3 numerical columns => R_2, R_3 and R_4 with the lack of R_1')"
   ]
  },
  {
   "cell_type": "code",
   "execution_count": 12,
   "metadata": {},
   "outputs": [
    {
     "data": {
      "text/html": [
       "<div>\n",
       "<style scoped>\n",
       "    .dataframe tbody tr th:only-of-type {\n",
       "        vertical-align: middle;\n",
       "    }\n",
       "\n",
       "    .dataframe tbody tr th {\n",
       "        vertical-align: top;\n",
       "    }\n",
       "\n",
       "    .dataframe thead th {\n",
       "        text-align: right;\n",
       "    }\n",
       "</style>\n",
       "<table border=\"1\" class=\"dataframe\">\n",
       "  <thead>\n",
       "    <tr style=\"text-align: right;\">\n",
       "      <th></th>\n",
       "      <th>customer_ID</th>\n",
       "      <th>S_2</th>\n",
       "      <th>P_2</th>\n",
       "      <th>D_39</th>\n",
       "      <th>B_1</th>\n",
       "      <th>B_2</th>\n",
       "      <th>R_1</th>\n",
       "      <th>S_3</th>\n",
       "      <th>D_41</th>\n",
       "      <th>B_3</th>\n",
       "      <th>...</th>\n",
       "      <th>D_136</th>\n",
       "      <th>D_137</th>\n",
       "      <th>D_138</th>\n",
       "      <th>D_139</th>\n",
       "      <th>D_140</th>\n",
       "      <th>D_141</th>\n",
       "      <th>D_142</th>\n",
       "      <th>D_143</th>\n",
       "      <th>D_144</th>\n",
       "      <th>D_145</th>\n",
       "    </tr>\n",
       "  </thead>\n",
       "  <tbody>\n",
       "    <tr>\n",
       "      <th>0</th>\n",
       "      <td>0000099d6bd597052cdcda90ffabf56573fe9d7c79be5f...</td>\n",
       "      <td>2017-03-09</td>\n",
       "      <td>0.938469</td>\n",
       "      <td>0.001733</td>\n",
       "      <td>0.008724</td>\n",
       "      <td>1.006838</td>\n",
       "      <td>0.009228</td>\n",
       "      <td>0.124035</td>\n",
       "      <td>0.008771</td>\n",
       "      <td>0.004709</td>\n",
       "      <td>...</td>\n",
       "      <td>NaN</td>\n",
       "      <td>NaN</td>\n",
       "      <td>NaN</td>\n",
       "      <td>0.002427</td>\n",
       "      <td>0.003706</td>\n",
       "      <td>0.003818</td>\n",
       "      <td>NaN</td>\n",
       "      <td>0.000569</td>\n",
       "      <td>0.000610</td>\n",
       "      <td>0.002674</td>\n",
       "    </tr>\n",
       "    <tr>\n",
       "      <th>1</th>\n",
       "      <td>0000099d6bd597052cdcda90ffabf56573fe9d7c79be5f...</td>\n",
       "      <td>2017-04-07</td>\n",
       "      <td>0.936665</td>\n",
       "      <td>0.005775</td>\n",
       "      <td>0.004923</td>\n",
       "      <td>1.000653</td>\n",
       "      <td>0.006151</td>\n",
       "      <td>0.126750</td>\n",
       "      <td>0.000798</td>\n",
       "      <td>0.002714</td>\n",
       "      <td>...</td>\n",
       "      <td>NaN</td>\n",
       "      <td>NaN</td>\n",
       "      <td>NaN</td>\n",
       "      <td>0.003954</td>\n",
       "      <td>0.003167</td>\n",
       "      <td>0.005032</td>\n",
       "      <td>NaN</td>\n",
       "      <td>0.009576</td>\n",
       "      <td>0.005492</td>\n",
       "      <td>0.009217</td>\n",
       "    </tr>\n",
       "    <tr>\n",
       "      <th>2</th>\n",
       "      <td>0000099d6bd597052cdcda90ffabf56573fe9d7c79be5f...</td>\n",
       "      <td>2017-05-28</td>\n",
       "      <td>0.954180</td>\n",
       "      <td>0.091505</td>\n",
       "      <td>0.021655</td>\n",
       "      <td>1.009672</td>\n",
       "      <td>0.006815</td>\n",
       "      <td>0.123977</td>\n",
       "      <td>0.007598</td>\n",
       "      <td>0.009423</td>\n",
       "      <td>...</td>\n",
       "      <td>NaN</td>\n",
       "      <td>NaN</td>\n",
       "      <td>NaN</td>\n",
       "      <td>0.003269</td>\n",
       "      <td>0.007329</td>\n",
       "      <td>0.000427</td>\n",
       "      <td>NaN</td>\n",
       "      <td>0.003429</td>\n",
       "      <td>0.006986</td>\n",
       "      <td>0.002603</td>\n",
       "    </tr>\n",
       "    <tr>\n",
       "      <th>3</th>\n",
       "      <td>0000099d6bd597052cdcda90ffabf56573fe9d7c79be5f...</td>\n",
       "      <td>2017-06-13</td>\n",
       "      <td>0.960384</td>\n",
       "      <td>0.002455</td>\n",
       "      <td>0.013683</td>\n",
       "      <td>1.002700</td>\n",
       "      <td>0.001373</td>\n",
       "      <td>0.117169</td>\n",
       "      <td>0.000685</td>\n",
       "      <td>0.005531</td>\n",
       "      <td>...</td>\n",
       "      <td>NaN</td>\n",
       "      <td>NaN</td>\n",
       "      <td>NaN</td>\n",
       "      <td>0.006117</td>\n",
       "      <td>0.004516</td>\n",
       "      <td>0.003200</td>\n",
       "      <td>NaN</td>\n",
       "      <td>0.008419</td>\n",
       "      <td>0.006527</td>\n",
       "      <td>0.009600</td>\n",
       "    </tr>\n",
       "    <tr>\n",
       "      <th>4</th>\n",
       "      <td>0000099d6bd597052cdcda90ffabf56573fe9d7c79be5f...</td>\n",
       "      <td>2017-07-16</td>\n",
       "      <td>0.947248</td>\n",
       "      <td>0.002483</td>\n",
       "      <td>0.015193</td>\n",
       "      <td>1.000727</td>\n",
       "      <td>0.007605</td>\n",
       "      <td>0.117325</td>\n",
       "      <td>0.004653</td>\n",
       "      <td>0.009312</td>\n",
       "      <td>...</td>\n",
       "      <td>NaN</td>\n",
       "      <td>NaN</td>\n",
       "      <td>NaN</td>\n",
       "      <td>0.003671</td>\n",
       "      <td>0.004946</td>\n",
       "      <td>0.008889</td>\n",
       "      <td>NaN</td>\n",
       "      <td>0.001670</td>\n",
       "      <td>0.008126</td>\n",
       "      <td>0.009827</td>\n",
       "    </tr>\n",
       "  </tbody>\n",
       "</table>\n",
       "<p>5 rows × 190 columns</p>\n",
       "</div>"
      ],
      "text/plain": [
       "                                         customer_ID         S_2       P_2  \\\n",
       "0  0000099d6bd597052cdcda90ffabf56573fe9d7c79be5f...  2017-03-09  0.938469   \n",
       "1  0000099d6bd597052cdcda90ffabf56573fe9d7c79be5f...  2017-04-07  0.936665   \n",
       "2  0000099d6bd597052cdcda90ffabf56573fe9d7c79be5f...  2017-05-28  0.954180   \n",
       "3  0000099d6bd597052cdcda90ffabf56573fe9d7c79be5f...  2017-06-13  0.960384   \n",
       "4  0000099d6bd597052cdcda90ffabf56573fe9d7c79be5f...  2017-07-16  0.947248   \n",
       "\n",
       "       D_39       B_1       B_2       R_1       S_3      D_41       B_3  ...  \\\n",
       "0  0.001733  0.008724  1.006838  0.009228  0.124035  0.008771  0.004709  ...   \n",
       "1  0.005775  0.004923  1.000653  0.006151  0.126750  0.000798  0.002714  ...   \n",
       "2  0.091505  0.021655  1.009672  0.006815  0.123977  0.007598  0.009423  ...   \n",
       "3  0.002455  0.013683  1.002700  0.001373  0.117169  0.000685  0.005531  ...   \n",
       "4  0.002483  0.015193  1.000727  0.007605  0.117325  0.004653  0.009312  ...   \n",
       "\n",
       "   D_136  D_137  D_138     D_139     D_140     D_141  D_142     D_143  \\\n",
       "0    NaN    NaN    NaN  0.002427  0.003706  0.003818    NaN  0.000569   \n",
       "1    NaN    NaN    NaN  0.003954  0.003167  0.005032    NaN  0.009576   \n",
       "2    NaN    NaN    NaN  0.003269  0.007329  0.000427    NaN  0.003429   \n",
       "3    NaN    NaN    NaN  0.006117  0.004516  0.003200    NaN  0.008419   \n",
       "4    NaN    NaN    NaN  0.003671  0.004946  0.008889    NaN  0.001670   \n",
       "\n",
       "      D_144     D_145  \n",
       "0  0.000610  0.002674  \n",
       "1  0.005492  0.009217  \n",
       "2  0.006986  0.002603  \n",
       "3  0.006527  0.009600  \n",
       "4  0.008126  0.009827  \n",
       "\n",
       "[5 rows x 190 columns]"
      ]
     },
     "execution_count": 12,
     "metadata": {},
     "output_type": "execute_result"
    }
   ],
   "source": [
    "train.head()"
   ]
  },
  {
   "cell_type": "code",
   "execution_count": 5,
   "metadata": {},
   "outputs": [],
   "source": [
    "train_trainLabel_join = train.merge(train_labels,how='left',on='customer_ID')\n",
    "catfeats_trainLabel_join = cat_feats.merge(train_labels,how='left',on='customer_ID')"
   ]
  },
  {
   "cell_type": "code",
   "execution_count": 13,
   "metadata": {},
   "outputs": [
    {
     "data": {
      "text/plain": [
       "0    1.0\n",
       "1    0.0\n",
       "2    2.0\n",
       "3    NaN\n",
       "Name: B_30, dtype: float64"
      ]
     },
     "execution_count": 13,
     "metadata": {},
     "output_type": "execute_result"
    }
   ],
   "source": [
    "catfeats_trainLabel_join[catfeats_trainLabel_join['target']==1]['B_30'].unique().compute()"
   ]
  },
  {
   "cell_type": "code",
   "execution_count": 14,
   "metadata": {},
   "outputs": [
    {
     "data": {
      "text/plain": [
       "0    5.0\n",
       "1    6.0\n",
       "2    7.0\n",
       "3    1.0\n",
       "4    4.0\n",
       "5    3.0\n",
       "6    2.0\n",
       "7    NaN\n",
       "Name: B_38, dtype: float64"
      ]
     },
     "execution_count": 14,
     "metadata": {},
     "output_type": "execute_result"
    }
   ],
   "source": [
    "catfeats_trainLabel_join[catfeats_trainLabel_join['target']==1]['B_38'].unique().compute()"
   ]
  },
  {
   "cell_type": "code",
   "execution_count": 15,
   "metadata": {},
   "outputs": [
    {
     "data": {
      "text/plain": [
       "0    0.0\n",
       "1    1.0\n",
       "2    NaN\n",
       "Name: D_114, dtype: float64"
      ]
     },
     "execution_count": 15,
     "metadata": {},
     "output_type": "execute_result"
    }
   ],
   "source": [
    "catfeats_trainLabel_join[catfeats_trainLabel_join['target']==1]['D_114'].unique().compute()"
   ]
  },
  {
   "cell_type": "code",
   "execution_count": 16,
   "metadata": {},
   "outputs": [
    {
     "data": {
      "text/plain": [
       "0    0.0\n",
       "1    NaN\n",
       "2    1.0\n",
       "Name: D_116, dtype: float64"
      ]
     },
     "execution_count": 16,
     "metadata": {},
     "output_type": "execute_result"
    }
   ],
   "source": [
    "catfeats_trainLabel_join[catfeats_trainLabel_join['target']==1]['D_116'].unique().compute()"
   ]
  },
  {
   "cell_type": "code",
   "execution_count": 17,
   "metadata": {},
   "outputs": [
    {
     "data": {
      "text/plain": [
       "0   -1.0\n",
       "1    4.0\n",
       "2    NaN\n",
       "3    1.0\n",
       "4    2.0\n",
       "5    3.0\n",
       "6    5.0\n",
       "7    6.0\n",
       "Name: D_117, dtype: float64"
      ]
     },
     "execution_count": 17,
     "metadata": {},
     "output_type": "execute_result"
    }
   ],
   "source": [
    "catfeats_trainLabel_join[catfeats_trainLabel_join['target']==1]['D_117'].unique().compute()"
   ]
  },
  {
   "cell_type": "code",
   "execution_count": 18,
   "metadata": {},
   "outputs": [
    {
     "data": {
      "text/plain": [
       "0    0.0\n",
       "1    NaN\n",
       "2    1.0\n",
       "Name: D_120, dtype: float64"
      ]
     },
     "execution_count": 18,
     "metadata": {},
     "output_type": "execute_result"
    }
   ],
   "source": [
    "catfeats_trainLabel_join[catfeats_trainLabel_join['target']==1]['D_120'].unique().compute()"
   ]
  },
  {
   "cell_type": "code",
   "execution_count": 19,
   "metadata": {},
   "outputs": [
    {
     "data": {
      "text/plain": [
       "0    1.0\n",
       "1    0.0\n",
       "2   -1.0\n",
       "3    NaN\n",
       "Name: D_126, dtype: float64"
      ]
     },
     "execution_count": 19,
     "metadata": {},
     "output_type": "execute_result"
    }
   ],
   "source": [
    "catfeats_trainLabel_join[catfeats_trainLabel_join['target']==1]['D_126'].unique().compute()"
   ]
  },
  {
   "cell_type": "code",
   "execution_count": 41,
   "metadata": {},
   "outputs": [
    {
     "data": {
      "text/plain": [
       "0    CO\n",
       "1    CL\n",
       "2    CR\n",
       "3    XM\n",
       "4    XL\n",
       "5    XZ\n",
       "Name: D_63, dtype: object"
      ]
     },
     "execution_count": 41,
     "metadata": {},
     "output_type": "execute_result"
    }
   ],
   "source": [
    "catfeats_trainLabel_join[catfeats_trainLabel_join['target']==1]['D_63'].unique().compute()"
   ]
  },
  {
   "cell_type": "code",
   "execution_count": 20,
   "metadata": {},
   "outputs": [
    {
     "data": {
      "text/plain": [
       "0      U\n",
       "1      O\n",
       "2    NaN\n",
       "3      R\n",
       "4     -1\n",
       "Name: D_64, dtype: object"
      ]
     },
     "execution_count": 20,
     "metadata": {},
     "output_type": "execute_result"
    }
   ],
   "source": [
    "catfeats_trainLabel_join[catfeats_trainLabel_join['target']==1]['D_64'].unique().compute()"
   ]
  },
  {
   "cell_type": "code",
   "execution_count": 21,
   "metadata": {},
   "outputs": [
    {
     "data": {
      "text/plain": [
       "0    1.0\n",
       "1    NaN\n",
       "2    0.0\n",
       "Name: D_66, dtype: float64"
      ]
     },
     "execution_count": 21,
     "metadata": {},
     "output_type": "execute_result"
    }
   ],
   "source": [
    "catfeats_trainLabel_join[catfeats_trainLabel_join['target']==1]['D_66'].unique().compute()"
   ]
  },
  {
   "cell_type": "code",
   "execution_count": 22,
   "metadata": {},
   "outputs": [
    {
     "data": {
      "text/plain": [
       "0    3.0\n",
       "1    6.0\n",
       "2    5.0\n",
       "3    NaN\n",
       "4    4.0\n",
       "5    1.0\n",
       "6    2.0\n",
       "7    0.0\n",
       "Name: D_68, dtype: float64"
      ]
     },
     "execution_count": 22,
     "metadata": {},
     "output_type": "execute_result"
    }
   ],
   "source": [
    "catfeats_trainLabel_join[catfeats_trainLabel_join['target']==1]['D_68'].unique().compute()"
   ]
  },
  {
   "cell_type": "code",
   "execution_count": 9,
   "metadata": {},
   "outputs": [
    {
     "data": {
      "text/html": [
       "<div>\n",
       "<style scoped>\n",
       "    .dataframe tbody tr th:only-of-type {\n",
       "        vertical-align: middle;\n",
       "    }\n",
       "\n",
       "    .dataframe tbody tr th {\n",
       "        vertical-align: top;\n",
       "    }\n",
       "\n",
       "    .dataframe thead th {\n",
       "        text-align: right;\n",
       "    }\n",
       "</style>\n",
       "<table border=\"1\" class=\"dataframe\">\n",
       "  <thead>\n",
       "    <tr style=\"text-align: right;\">\n",
       "      <th></th>\n",
       "      <th>customer_ID</th>\n",
       "      <th>B_30</th>\n",
       "      <th>B_38</th>\n",
       "      <th>D_114</th>\n",
       "      <th>D_116</th>\n",
       "      <th>D_117</th>\n",
       "      <th>D_120</th>\n",
       "      <th>D_126</th>\n",
       "      <th>D_63</th>\n",
       "      <th>D_64</th>\n",
       "      <th>D_66</th>\n",
       "      <th>D_68</th>\n",
       "      <th>target</th>\n",
       "    </tr>\n",
       "  </thead>\n",
       "  <tbody>\n",
       "    <tr>\n",
       "      <th>104</th>\n",
       "      <td>0000f99513770170a1aba690daeeb8a96da4a39f11fc27...</td>\n",
       "      <td>1.0</td>\n",
       "      <td>5.0</td>\n",
       "      <td>0.0</td>\n",
       "      <td>0.0</td>\n",
       "      <td>-1.0</td>\n",
       "      <td>0.0</td>\n",
       "      <td>1.0</td>\n",
       "      <td>CO</td>\n",
       "      <td>U</td>\n",
       "      <td>1.0</td>\n",
       "      <td>3.0</td>\n",
       "      <td>1</td>\n",
       "    </tr>\n",
       "    <tr>\n",
       "      <th>105</th>\n",
       "      <td>0000f99513770170a1aba690daeeb8a96da4a39f11fc27...</td>\n",
       "      <td>1.0</td>\n",
       "      <td>5.0</td>\n",
       "      <td>0.0</td>\n",
       "      <td>0.0</td>\n",
       "      <td>-1.0</td>\n",
       "      <td>0.0</td>\n",
       "      <td>1.0</td>\n",
       "      <td>CO</td>\n",
       "      <td>U</td>\n",
       "      <td>1.0</td>\n",
       "      <td>3.0</td>\n",
       "      <td>1</td>\n",
       "    </tr>\n",
       "    <tr>\n",
       "      <th>106</th>\n",
       "      <td>0000f99513770170a1aba690daeeb8a96da4a39f11fc27...</td>\n",
       "      <td>1.0</td>\n",
       "      <td>6.0</td>\n",
       "      <td>0.0</td>\n",
       "      <td>0.0</td>\n",
       "      <td>-1.0</td>\n",
       "      <td>0.0</td>\n",
       "      <td>1.0</td>\n",
       "      <td>CO</td>\n",
       "      <td>U</td>\n",
       "      <td>1.0</td>\n",
       "      <td>6.0</td>\n",
       "      <td>1</td>\n",
       "    </tr>\n",
       "    <tr>\n",
       "      <th>107</th>\n",
       "      <td>0000f99513770170a1aba690daeeb8a96da4a39f11fc27...</td>\n",
       "      <td>1.0</td>\n",
       "      <td>7.0</td>\n",
       "      <td>0.0</td>\n",
       "      <td>0.0</td>\n",
       "      <td>-1.0</td>\n",
       "      <td>0.0</td>\n",
       "      <td>1.0</td>\n",
       "      <td>CO</td>\n",
       "      <td>U</td>\n",
       "      <td>1.0</td>\n",
       "      <td>6.0</td>\n",
       "      <td>1</td>\n",
       "    </tr>\n",
       "    <tr>\n",
       "      <th>108</th>\n",
       "      <td>0000f99513770170a1aba690daeeb8a96da4a39f11fc27...</td>\n",
       "      <td>1.0</td>\n",
       "      <td>7.0</td>\n",
       "      <td>0.0</td>\n",
       "      <td>0.0</td>\n",
       "      <td>-1.0</td>\n",
       "      <td>0.0</td>\n",
       "      <td>1.0</td>\n",
       "      <td>CO</td>\n",
       "      <td>U</td>\n",
       "      <td>1.0</td>\n",
       "      <td>6.0</td>\n",
       "      <td>1</td>\n",
       "    </tr>\n",
       "  </tbody>\n",
       "</table>\n",
       "</div>"
      ],
      "text/plain": [
       "                                           customer_ID  B_30  B_38  D_114  \\\n",
       "104  0000f99513770170a1aba690daeeb8a96da4a39f11fc27...   1.0   5.0    0.0   \n",
       "105  0000f99513770170a1aba690daeeb8a96da4a39f11fc27...   1.0   5.0    0.0   \n",
       "106  0000f99513770170a1aba690daeeb8a96da4a39f11fc27...   1.0   6.0    0.0   \n",
       "107  0000f99513770170a1aba690daeeb8a96da4a39f11fc27...   1.0   7.0    0.0   \n",
       "108  0000f99513770170a1aba690daeeb8a96da4a39f11fc27...   1.0   7.0    0.0   \n",
       "\n",
       "     D_116  D_117  D_120  D_126 D_63 D_64  D_66  D_68  target  \n",
       "104    0.0   -1.0    0.0    1.0   CO    U   1.0   3.0       1  \n",
       "105    0.0   -1.0    0.0    1.0   CO    U   1.0   3.0       1  \n",
       "106    0.0   -1.0    0.0    1.0   CO    U   1.0   6.0       1  \n",
       "107    0.0   -1.0    0.0    1.0   CO    U   1.0   6.0       1  \n",
       "108    0.0   -1.0    0.0    1.0   CO    U   1.0   6.0       1  "
      ]
     },
     "execution_count": 9,
     "metadata": {},
     "output_type": "execute_result"
    }
   ],
   "source": [
    "catfeats_trainLabel_join[catfeats_trainLabel_join['target']==1].head()"
   ]
  },
  {
   "cell_type": "code",
   "execution_count": 29,
   "metadata": {},
   "outputs": [
    {
     "data": {
      "text/html": [
       "<div>\n",
       "<style scoped>\n",
       "    .dataframe tbody tr th:only-of-type {\n",
       "        vertical-align: middle;\n",
       "    }\n",
       "\n",
       "    .dataframe tbody tr th {\n",
       "        vertical-align: top;\n",
       "    }\n",
       "\n",
       "    .dataframe thead th {\n",
       "        text-align: right;\n",
       "    }\n",
       "</style>\n",
       "<table border=\"1\" class=\"dataframe\">\n",
       "  <thead>\n",
       "    <tr style=\"text-align: right;\">\n",
       "      <th></th>\n",
       "      <th>P_2</th>\n",
       "      <th>P_3</th>\n",
       "      <th>P_4</th>\n",
       "      <th>R_2</th>\n",
       "      <th>R_3</th>\n",
       "      <th>R_4</th>\n",
       "    </tr>\n",
       "  </thead>\n",
       "  <tbody>\n",
       "    <tr>\n",
       "      <th>count</th>\n",
       "      <td>1.366093e+06</td>\n",
       "      <td>1.244039e+06</td>\n",
       "      <td>1.377869e+06</td>\n",
       "      <td>1.377869e+06</td>\n",
       "      <td>1.377869e+06</td>\n",
       "      <td>1.377869e+06</td>\n",
       "    </tr>\n",
       "    <tr>\n",
       "      <th>mean</th>\n",
       "      <td>3.968602e-01</td>\n",
       "      <td>5.267698e-01</td>\n",
       "      <td>2.834218e-01</td>\n",
       "      <td>1.399179e-01</td>\n",
       "      <td>2.256505e-01</td>\n",
       "      <td>9.253445e-02</td>\n",
       "    </tr>\n",
       "    <tr>\n",
       "      <th>std</th>\n",
       "      <td>1.945577e-01</td>\n",
       "      <td>2.253384e-01</td>\n",
       "      <td>4.379168e-01</td>\n",
       "      <td>3.416449e-01</td>\n",
       "      <td>3.161011e-01</td>\n",
       "      <td>2.826330e-01</td>\n",
       "    </tr>\n",
       "    <tr>\n",
       "      <th>min</th>\n",
       "      <td>-4.589548e-01</td>\n",
       "      <td>-1.298901e+00</td>\n",
       "      <td>1.009896e-08</td>\n",
       "      <td>2.810394e-09</td>\n",
       "      <td>2.238322e-09</td>\n",
       "      <td>1.618992e-09</td>\n",
       "    </tr>\n",
       "    <tr>\n",
       "      <th>25%</th>\n",
       "      <td>3.188087e-01</td>\n",
       "      <td>4.506216e-01</td>\n",
       "      <td>3.881625e-03</td>\n",
       "      <td>3.093204e-03</td>\n",
       "      <td>8.623292e-03</td>\n",
       "      <td>2.923374e-03</td>\n",
       "    </tr>\n",
       "    <tr>\n",
       "      <th>50%</th>\n",
       "      <td>4.320343e-01</td>\n",
       "      <td>5.765630e-01</td>\n",
       "      <td>7.614955e-03</td>\n",
       "      <td>6.060022e-03</td>\n",
       "      <td>2.012764e-01</td>\n",
       "      <td>5.677573e-03</td>\n",
       "    </tr>\n",
       "    <tr>\n",
       "      <th>75%</th>\n",
       "      <td>5.462155e-01</td>\n",
       "      <td>6.765356e-01</td>\n",
       "      <td>9.587939e-01</td>\n",
       "      <td>9.051380e-03</td>\n",
       "      <td>4.023662e-01</td>\n",
       "      <td>8.464747e-03</td>\n",
       "    </tr>\n",
       "    <tr>\n",
       "      <th>max</th>\n",
       "      <td>1.009979e+00</td>\n",
       "      <td>2.139391e+00</td>\n",
       "      <td>1.269390e+00</td>\n",
       "      <td>1.010000e+00</td>\n",
       "      <td>1.160260e+01</td>\n",
       "      <td>1.010000e+00</td>\n",
       "    </tr>\n",
       "  </tbody>\n",
       "</table>\n",
       "</div>"
      ],
      "text/plain": [
       "                P_2           P_3           P_4           R_2           R_3  \\\n",
       "count  1.366093e+06  1.244039e+06  1.377869e+06  1.377869e+06  1.377869e+06   \n",
       "mean   3.968602e-01  5.267698e-01  2.834218e-01  1.399179e-01  2.256505e-01   \n",
       "std    1.945577e-01  2.253384e-01  4.379168e-01  3.416449e-01  3.161011e-01   \n",
       "min   -4.589548e-01 -1.298901e+00  1.009896e-08  2.810394e-09  2.238322e-09   \n",
       "25%    3.188087e-01  4.506216e-01  3.881625e-03  3.093204e-03  8.623292e-03   \n",
       "50%    4.320343e-01  5.765630e-01  7.614955e-03  6.060022e-03  2.012764e-01   \n",
       "75%    5.462155e-01  6.765356e-01  9.587939e-01  9.051380e-03  4.023662e-01   \n",
       "max    1.009979e+00  2.139391e+00  1.269390e+00  1.010000e+00  1.160260e+01   \n",
       "\n",
       "                R_4  \n",
       "count  1.377869e+06  \n",
       "mean   9.253445e-02  \n",
       "std    2.826330e-01  \n",
       "min    1.618992e-09  \n",
       "25%    2.923374e-03  \n",
       "50%    5.677573e-03  \n",
       "75%    8.464747e-03  \n",
       "max    1.010000e+00  "
      ]
     },
     "execution_count": 29,
     "metadata": {},
     "output_type": "execute_result"
    }
   ],
   "source": [
    "train_trainLabel_join[train_trainLabel_join['target']==1][['P_2','P_3','P_4','R_2','R_3','R_4']].describe().compute()"
   ]
  },
  {
   "cell_type": "code",
   "execution_count": null,
   "metadata": {},
   "outputs": [],
   "source": [
    "train_trainLabel_join[train_trainLabel_join['target']==0][['P_2','P_3','P_4','R_2','R_3','R_4']].describe().compute()"
   ]
  }
 ],
 "metadata": {
  "interpreter": {
   "hash": "03b7ddd98a015235052fe7277228231decc9753d9b595a8615b2f407649b49e9"
  },
  "kernelspec": {
   "display_name": "Python 3.9.12 ('american_express_comp')",
   "language": "python",
   "name": "python3"
  },
  "language_info": {
   "codemirror_mode": {
    "name": "ipython",
    "version": 3
   },
   "file_extension": ".py",
   "mimetype": "text/x-python",
   "name": "python",
   "nbconvert_exporter": "python",
   "pygments_lexer": "ipython3",
   "version": "3.9.12"
  },
  "orig_nbformat": 4
 },
 "nbformat": 4,
 "nbformat_minor": 2
}

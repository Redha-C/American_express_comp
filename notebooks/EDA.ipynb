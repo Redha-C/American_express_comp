{
 "cells": [
  {
   "cell_type": "code",
   "execution_count": 2,
   "metadata": {},
   "outputs": [],
   "source": [
    "# General python libraires \n",
    "import os\n",
    "\n",
    "# General DS libraries\n",
    "import pandas as pd\n",
    "import numpy as np \n",
    "import matplotlib.pyplot as plt \n",
    "import seaborn as sns \n",
    "\n",
    "# Parallelized libraries \n",
    "import dask.dataframe as dd "
   ]
  },
  {
   "cell_type": "code",
   "execution_count": 3,
   "metadata": {},
   "outputs": [],
   "source": [
    "# Getting files \n",
    "path = 'C:/Users/redha.cherif_artefac/GitHub_perso/American_express_comp/input/'\n",
    "train = dd.read_csv(os.path.join(path, 'train_data.csv'))\n",
    "train_labels = dd.read_csv(os.path.join(path, 'train_labels.csv'))\n",
    "test = dd.read_csv(os.path.join(path, 'test_data.csv'))"
   ]
  },
  {
   "cell_type": "code",
   "execution_count": 18,
   "metadata": {},
   "outputs": [
    {
     "name": "stdout",
     "output_type": "stream",
     "text": [
      "5531451\n",
      "11363762\n"
     ]
    }
   ],
   "source": [
    "print(len(train))\n",
    "print(len(test))"
   ]
  },
  {
   "cell_type": "code",
   "execution_count": 45,
   "metadata": {},
   "outputs": [
    {
     "name": "stdout",
     "output_type": "stream",
     "text": [
      "('2017-03-01', '2018-03-31')\n",
      "('2018-04-01', '2019-10-31')\n",
      "train: 12 months\n",
      "test: 18 months\n"
     ]
    }
   ],
   "source": [
    "print(dd.compute(train.S_2.min(),train.S_2.max()))\n",
    "print(dd.compute(test.S_2.min(), test.S_2.max()))\n",
    "print('train: 12 months')\n",
    "print('test: 18 months')"
   ]
  },
  {
   "cell_type": "code",
   "execution_count": 15,
   "metadata": {},
   "outputs": [],
   "source": [
    "train_cust_ID = train.customer_ID.unique().compute()\n",
    "train_labels_custID = train_labels.customer_ID.unique().compute()\n",
    "test_cust_ID = test.customer_ID.unique().compute()"
   ]
  },
  {
   "cell_type": "code",
   "execution_count": 21,
   "metadata": {},
   "outputs": [
    {
     "name": "stdout",
     "output_type": "stream",
     "text": [
      "Number of customers in train : 458913\n",
      "Number of customers in test : 924621\n"
     ]
    }
   ],
   "source": [
    "print(f'Number of customers in train : {len(train_cust_ID)}')\n",
    "print(f'Number of customers in test : {len(test_cust_ID)}')"
   ]
  },
  {
   "cell_type": "code",
   "execution_count": 53,
   "metadata": {},
   "outputs": [
    {
     "name": "stdout",
     "output_type": "stream",
     "text": [
      "Number of common customers in the train and the test : 0\n",
      "Number of common customers in the train and the train_labels : 458913\n",
      "\n",
      "Therefore, all customers in the test are different from the ones in the train ! No leakage possible at first glance.\n",
      "The customers in the train_labels are the same than in the train\n"
     ]
    }
   ],
   "source": [
    "train_test_join = pd.merge(train_cust_ID,test_cust_ID,how='inner')\n",
    "train_trainLabel_join = pd.merge(train_cust_ID,train_labels_custID,how='inner')\n",
    "print(f'Number of common customers in the train and the test : {len(train_test_join)}')\n",
    "print(f'Number of common customers in the train and the train_labels : {len(train_trainLabel_join)}')\n",
    "print('')\n",
    "print('Therefore, all customers in the test are different from the ones in the train ! No leakage possible at first glance.')\n",
    "print('The customers in the train_labels are the same than in the train')"
   ]
  },
  {
   "cell_type": "code",
   "execution_count": 69,
   "metadata": {},
   "outputs": [
    {
     "data": {
      "text/html": [
       "<div>\n",
       "<style scoped>\n",
       "    .dataframe tbody tr th:only-of-type {\n",
       "        vertical-align: middle;\n",
       "    }\n",
       "\n",
       "    .dataframe tbody tr th {\n",
       "        vertical-align: top;\n",
       "    }\n",
       "\n",
       "    .dataframe thead th {\n",
       "        text-align: right;\n",
       "    }\n",
       "</style>\n",
       "<table border=\"1\" class=\"dataframe\">\n",
       "  <thead>\n",
       "    <tr style=\"text-align: right;\">\n",
       "      <th></th>\n",
       "      <th>B_30</th>\n",
       "      <th>B_38</th>\n",
       "      <th>D_114</th>\n",
       "      <th>D_116</th>\n",
       "      <th>D_117</th>\n",
       "      <th>D_120</th>\n",
       "      <th>D_126</th>\n",
       "      <th>D_63</th>\n",
       "      <th>D_64</th>\n",
       "      <th>D_66</th>\n",
       "      <th>D_68</th>\n",
       "    </tr>\n",
       "  </thead>\n",
       "  <tbody>\n",
       "    <tr>\n",
       "      <th>0</th>\n",
       "      <td>0.0</td>\n",
       "      <td>2.0</td>\n",
       "      <td>1.0</td>\n",
       "      <td>0.0</td>\n",
       "      <td>4.0</td>\n",
       "      <td>0.0</td>\n",
       "      <td>1.0</td>\n",
       "      <td>CR</td>\n",
       "      <td>O</td>\n",
       "      <td>NaN</td>\n",
       "      <td>6.0</td>\n",
       "    </tr>\n",
       "    <tr>\n",
       "      <th>1</th>\n",
       "      <td>0.0</td>\n",
       "      <td>2.0</td>\n",
       "      <td>1.0</td>\n",
       "      <td>0.0</td>\n",
       "      <td>4.0</td>\n",
       "      <td>0.0</td>\n",
       "      <td>1.0</td>\n",
       "      <td>CR</td>\n",
       "      <td>O</td>\n",
       "      <td>NaN</td>\n",
       "      <td>6.0</td>\n",
       "    </tr>\n",
       "    <tr>\n",
       "      <th>2</th>\n",
       "      <td>0.0</td>\n",
       "      <td>2.0</td>\n",
       "      <td>1.0</td>\n",
       "      <td>0.0</td>\n",
       "      <td>4.0</td>\n",
       "      <td>0.0</td>\n",
       "      <td>1.0</td>\n",
       "      <td>CR</td>\n",
       "      <td>O</td>\n",
       "      <td>NaN</td>\n",
       "      <td>6.0</td>\n",
       "    </tr>\n",
       "    <tr>\n",
       "      <th>3</th>\n",
       "      <td>0.0</td>\n",
       "      <td>2.0</td>\n",
       "      <td>1.0</td>\n",
       "      <td>0.0</td>\n",
       "      <td>4.0</td>\n",
       "      <td>0.0</td>\n",
       "      <td>1.0</td>\n",
       "      <td>CR</td>\n",
       "      <td>O</td>\n",
       "      <td>NaN</td>\n",
       "      <td>6.0</td>\n",
       "    </tr>\n",
       "    <tr>\n",
       "      <th>4</th>\n",
       "      <td>0.0</td>\n",
       "      <td>2.0</td>\n",
       "      <td>1.0</td>\n",
       "      <td>0.0</td>\n",
       "      <td>4.0</td>\n",
       "      <td>0.0</td>\n",
       "      <td>1.0</td>\n",
       "      <td>CR</td>\n",
       "      <td>O</td>\n",
       "      <td>NaN</td>\n",
       "      <td>6.0</td>\n",
       "    </tr>\n",
       "  </tbody>\n",
       "</table>\n",
       "</div>"
      ],
      "text/plain": [
       "   B_30  B_38  D_114  D_116  D_117  D_120  D_126 D_63 D_64  D_66  D_68\n",
       "0   0.0   2.0    1.0    0.0    4.0    0.0    1.0   CR    O   NaN   6.0\n",
       "1   0.0   2.0    1.0    0.0    4.0    0.0    1.0   CR    O   NaN   6.0\n",
       "2   0.0   2.0    1.0    0.0    4.0    0.0    1.0   CR    O   NaN   6.0\n",
       "3   0.0   2.0    1.0    0.0    4.0    0.0    1.0   CR    O   NaN   6.0\n",
       "4   0.0   2.0    1.0    0.0    4.0    0.0    1.0   CR    O   NaN   6.0"
      ]
     },
     "execution_count": 69,
     "metadata": {},
     "output_type": "execute_result"
    }
   ],
   "source": [
    "cat_feats = train[['B_30', 'B_38', 'D_114', 'D_116', 'D_117', 'D_120', 'D_126', 'D_63', 'D_64', 'D_66', 'D_68']]\n",
    "cat_feats.head()"
   ]
  },
  {
   "cell_type": "code",
   "execution_count": 83,
   "metadata": {},
   "outputs": [
    {
     "name": "stdout",
     "output_type": "stream",
     "text": [
      "Unique values for B_30: 0    0.0\n",
      "1    2.0\n",
      "2    1.0\n",
      "3    NaN\n",
      "Name: B_30, dtype: float64\n",
      "Unique values for B_38: 0    2.0\n",
      "1    1.0\n",
      "2    3.0\n",
      "3    5.0\n",
      "4    6.0\n",
      "5    7.0\n",
      "6    4.0\n",
      "7    NaN\n",
      "Name: B_38, dtype: float64\n",
      "Unique values for D_114: 0    1.0\n",
      "1    0.0\n",
      "2    NaN\n",
      "Name: D_114, dtype: float64\n",
      "Unique values for D_116: 0    0.0\n",
      "1    NaN\n",
      "2    1.0\n",
      "Name: D_116, dtype: float64\n",
      "Unique values for D_117: 0    4.0\n",
      "1   -1.0\n",
      "2    6.0\n",
      "3    2.0\n",
      "4    1.0\n",
      "5    NaN\n",
      "6    3.0\n",
      "7    5.0\n",
      "Name: D_117, dtype: float64\n",
      "Unique values for D_120: 0    0.0\n",
      "1    1.0\n",
      "2    NaN\n",
      "Name: D_120, dtype: float64\n",
      "Unique values for D_126: 0    1.0\n",
      "1    NaN\n",
      "2    0.0\n",
      "3   -1.0\n",
      "Name: D_126, dtype: float64\n",
      "Unique values for D_63: 0    CR\n",
      "1    CO\n",
      "2    CL\n",
      "3    XZ\n",
      "4    XM\n",
      "5    XL\n",
      "Name: D_63, dtype: object\n",
      "Unique values for D_64: 0      O\n",
      "1      R\n",
      "2    NaN\n",
      "3      U\n",
      "4     -1\n",
      "Name: D_64, dtype: object\n",
      "Unique values for D_66: 0    NaN\n",
      "1    1.0\n",
      "2    0.0\n",
      "Name: D_66, dtype: float64\n",
      "Unique values for D_68: 0    6.0\n",
      "1    2.0\n",
      "2    3.0\n",
      "3    NaN\n",
      "4    5.0\n",
      "5    4.0\n",
      "6    0.0\n",
      "7    1.0\n",
      "Name: D_68, dtype: float64\n"
     ]
    }
   ],
   "source": [
    "print(f'Unique values for B_30: {cat_feats.B_30.unique().compute()}')\n",
    "print(f'Unique values for B_38: {cat_feats.B_38.unique().compute()}')\n",
    "print(f'Unique values for D_114: {cat_feats.D_114.unique().compute()}')\n",
    "print(f'Unique values for D_116: {cat_feats.D_116.unique().compute()}')\n",
    "print(f'Unique values for D_117: {cat_feats.D_117.unique().compute()}')\n",
    "print(f'Unique values for D_120: {cat_feats.D_120.unique().compute()}')\n",
    "print(f'Unique values for D_126: {cat_feats.D_126.unique().compute()}')\n",
    "print(f'Unique values for D_63: {cat_feats.D_63.unique().compute()}')\n",
    "print(f'Unique values for D_64: {cat_feats.D_64.unique().compute()}')\n",
    "print(f'Unique values for D_66: {cat_feats.D_66.unique().compute()}')\n",
    "print(f'Unique values for D_68: {cat_feats.D_68.unique().compute()}')"
   ]
  },
  {
   "cell_type": "code",
   "execution_count": 3,
   "metadata": {},
   "outputs": [
    {
     "name": "stdout",
     "output_type": "stream",
     "text": [
      "The number of S columns : 22 \n",
      " (S_2, S_3, S_5, S_6, S_7, S_8, S_9, S_11, S_12, S_13, S_15, S_16, S_17, S_18, S_19, S_20, S_22, S_23, S_24, S_25, S_26, S_27\n"
     ]
    }
   ],
   "source": [
    "print('The number of S columns : 22 \\n (S_2, S_3, S_5, S_6, S_7, S_8, S_9, S_11, S_12, S_13, S_15, S_16, S_17, S_18, S_19, S_20, S_22, S_23, S_24, S_25, S_26, S_27')"
   ]
  },
  {
   "cell_type": "code",
   "execution_count": null,
   "metadata": {},
   "outputs": [],
   "source": []
  }
 ],
 "metadata": {
  "interpreter": {
   "hash": "03b7ddd98a015235052fe7277228231decc9753d9b595a8615b2f407649b49e9"
  },
  "kernelspec": {
   "display_name": "Python 3.9.12 ('american_express_comp')",
   "language": "python",
   "name": "python3"
  },
  "language_info": {
   "codemirror_mode": {
    "name": "ipython",
    "version": 3
   },
   "file_extension": ".py",
   "mimetype": "text/x-python",
   "name": "python",
   "nbconvert_exporter": "python",
   "pygments_lexer": "ipython3",
   "version": "3.9.12"
  },
  "orig_nbformat": 4
 },
 "nbformat": 4,
 "nbformat_minor": 2
}
